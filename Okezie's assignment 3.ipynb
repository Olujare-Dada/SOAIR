{
 "cells": [
  {
   "cell_type": "markdown",
   "id": "3b02fe35",
   "metadata": {},
   "source": [
    "Use the methods listed above to perform operations involving sets"
   ]
  },
  {
   "cell_type": "markdown",
   "id": "3051282a",
   "metadata": {},
   "source": [
    "Add"
   ]
  },
  {
   "cell_type": "code",
   "execution_count": 4,
   "id": "ad89075b",
   "metadata": {},
   "outputs": [
    {
     "data": {
      "text/plain": [
       "{'Angela', 'Dubem', 'Jane', 'Nibo', 'Okezie', 'Somtoo'}"
      ]
     },
     "execution_count": 4,
     "metadata": {},
     "output_type": "execute_result"
    }
   ],
   "source": [
    "F= {\"Okezie\",\"Nibo\",\"Dubem\",\"Jane\",\"Somtoo\",\"Angela\"}\n",
    "\n",
    "F"
   ]
  },
  {
   "cell_type": "code",
   "execution_count": 9,
   "id": "e0219aa9",
   "metadata": {},
   "outputs": [
    {
     "data": {
      "text/plain": [
       "{1, 3, 4, 7, 'Angela', 'Dubem', 'Jane', 'Nibo', 'Okezie', 'Somtoo'}"
      ]
     },
     "execution_count": 9,
     "metadata": {},
     "output_type": "execute_result"
    }
   ],
   "source": [
    "F.add(1)\n",
    "F.add(3)\n",
    "F.add(4)\n",
    "F.add(7)\n",
    "\n",
    "F"
   ]
  },
  {
   "cell_type": "markdown",
   "id": "7a516906",
   "metadata": {},
   "source": [
    "Clear"
   ]
  },
  {
   "cell_type": "code",
   "execution_count": 11,
   "id": "b98197ed",
   "metadata": {},
   "outputs": [
    {
     "data": {
      "text/plain": [
       "set()"
      ]
     },
     "execution_count": 11,
     "metadata": {},
     "output_type": "execute_result"
    }
   ],
   "source": [
    "F.clear()\n",
    "\n",
    "F"
   ]
  },
  {
   "cell_type": "markdown",
   "id": "e2f673bb",
   "metadata": {},
   "source": [
    "Copy"
   ]
  },
  {
   "cell_type": "code",
   "execution_count": 13,
   "id": "42dc67d3",
   "metadata": {},
   "outputs": [
    {
     "data": {
      "text/plain": [
       "{3, 6, 7, 8, 'Dino', 'Ella', 'Mbolo', 'Slam', 'Tonero'}"
      ]
     },
     "execution_count": 13,
     "metadata": {},
     "output_type": "execute_result"
    }
   ],
   "source": [
    "G= {3,6,7,8,\"Slam\",\"Mbolo\",\"Tonero\",\"Dino\",\"Ella\"}\n",
    "\n",
    "G"
   ]
  },
  {
   "cell_type": "code",
   "execution_count": 21,
   "id": "8c5f50e4",
   "metadata": {},
   "outputs": [
    {
     "data": {
      "text/plain": [
       "<function set.copy>"
      ]
     },
     "execution_count": 21,
     "metadata": {},
     "output_type": "execute_result"
    }
   ],
   "source": [
    "New_G = G.copy\n",
    "\n",
    "New_G\n",
    "\n"
   ]
  },
  {
   "cell_type": "code",
   "execution_count": 31,
   "id": "a47b85d0",
   "metadata": {},
   "outputs": [
    {
     "data": {
      "text/plain": [
       "{3, 6, 7, 8, 'Dino', 'Ella', 'Mbolo', 'Slam', 'Tonero'}"
      ]
     },
     "execution_count": 31,
     "metadata": {},
     "output_type": "execute_result"
    }
   ],
   "source": [
    "G.difference(F)\n",
    "\n"
   ]
  },
  {
   "cell_type": "code",
   "execution_count": 32,
   "id": "24589c58",
   "metadata": {},
   "outputs": [
    {
     "data": {
      "text/plain": [
       "{3, 6, 7, 8, 'Ella', 'Mbolo', 'Slam', 'Tonero'}"
      ]
     },
     "execution_count": 32,
     "metadata": {},
     "output_type": "execute_result"
    }
   ],
   "source": [
    "G.discard(\"Dino\")\n",
    "\n",
    "G\n"
   ]
  },
  {
   "cell_type": "code",
   "execution_count": 35,
   "id": "cd4aa681",
   "metadata": {},
   "outputs": [
    {
     "data": {
      "text/plain": [
       "{4, 'Ife', 'Sunny'}"
      ]
     },
     "execution_count": 35,
     "metadata": {},
     "output_type": "execute_result"
    }
   ],
   "source": [
    "I = {\"Sunny\",\"Ife\",\"Ebube\",3,4,6}\n",
    "O = {\"Sunny\", \"Ife\",4}\n",
    "\n",
    "I.intersection(O)\n"
   ]
  },
  {
   "cell_type": "code",
   "execution_count": 37,
   "id": "15b7b77c",
   "metadata": {},
   "outputs": [],
   "source": [
    "I.intersection_update(O)"
   ]
  },
  {
   "cell_type": "code",
   "execution_count": 38,
   "id": "930bed21",
   "metadata": {},
   "outputs": [
    {
     "data": {
      "text/plain": [
       "False"
      ]
     },
     "execution_count": 38,
     "metadata": {},
     "output_type": "execute_result"
    }
   ],
   "source": [
    "I.isdisjoint(O)"
   ]
  },
  {
   "cell_type": "code",
   "execution_count": 39,
   "id": "c4d6fdf4",
   "metadata": {},
   "outputs": [
    {
     "data": {
      "text/plain": [
       "True"
      ]
     },
     "execution_count": 39,
     "metadata": {},
     "output_type": "execute_result"
    }
   ],
   "source": [
    "I.issubset(O)"
   ]
  },
  {
   "cell_type": "code",
   "execution_count": 40,
   "id": "edf37f2c",
   "metadata": {},
   "outputs": [
    {
     "data": {
      "text/plain": [
       "True"
      ]
     },
     "execution_count": 40,
     "metadata": {},
     "output_type": "execute_result"
    }
   ],
   "source": [
    "I.issuperset(O)"
   ]
  },
  {
   "cell_type": "code",
   "execution_count": 41,
   "id": "108bc78b",
   "metadata": {},
   "outputs": [
    {
     "data": {
      "text/plain": [
       "'Sunny'"
      ]
     },
     "execution_count": 41,
     "metadata": {},
     "output_type": "execute_result"
    }
   ],
   "source": [
    "O.pop()"
   ]
  },
  {
   "cell_type": "code",
   "execution_count": 47,
   "id": "86d99429",
   "metadata": {},
   "outputs": [
    {
     "data": {
      "text/plain": [
       "{4, 'Sunny'}"
      ]
     },
     "execution_count": 47,
     "metadata": {},
     "output_type": "execute_result"
    }
   ],
   "source": [
    "I.remove(\"Ife\")\n",
    "\n",
    "I"
   ]
  },
  {
   "cell_type": "code",
   "execution_count": 48,
   "id": "98afbe3f",
   "metadata": {},
   "outputs": [
    {
     "data": {
      "text/plain": [
       "{'Sunny'}"
      ]
     },
     "execution_count": 48,
     "metadata": {},
     "output_type": "execute_result"
    }
   ],
   "source": [
    "I.symmetric_difference(O)"
   ]
  },
  {
   "cell_type": "code",
   "execution_count": 49,
   "id": "80413913",
   "metadata": {},
   "outputs": [
    {
     "data": {
      "text/plain": [
       "{4, 'Sunny'}"
      ]
     },
     "execution_count": 49,
     "metadata": {},
     "output_type": "execute_result"
    }
   ],
   "source": [
    "I.union(O)"
   ]
  },
  {
   "cell_type": "markdown",
   "id": "66b6395a",
   "metadata": {},
   "source": [
    "Find and use Tuples methods to perform operations involving tuple"
   ]
  },
  {
   "cell_type": "code",
   "execution_count": 2,
   "id": "19d39114",
   "metadata": {},
   "outputs": [
    {
     "data": {
      "text/plain": [
       "3"
      ]
     },
     "execution_count": 2,
     "metadata": {},
     "output_type": "execute_result"
    }
   ],
   "source": [
    "Z = (9,7,5,7,9,1,1,3,7, \"Obi\", \"Chidinma\")\n",
    "\n",
    "\n",
    "Z.count(7)"
   ]
  },
  {
   "cell_type": "code",
   "execution_count": 4,
   "id": "9d50cbb0",
   "metadata": {},
   "outputs": [
    {
     "data": {
      "text/plain": [
       "2"
      ]
     },
     "execution_count": 4,
     "metadata": {},
     "output_type": "execute_result"
    }
   ],
   "source": [
    "Z.index(5)"
   ]
  },
  {
   "cell_type": "markdown",
   "id": "5c3b171c",
   "metadata": {},
   "source": [
    "Dictionary"
   ]
  },
  {
   "cell_type": "code",
   "execution_count": 5,
   "id": "9691fc3f",
   "metadata": {},
   "outputs": [
    {
     "data": {
      "text/plain": [
       "{5, 8, 9, 'Kaycee', 'Odor', 'Okezie', 'batho'}"
      ]
     },
     "execution_count": 5,
     "metadata": {},
     "output_type": "execute_result"
    }
   ],
   "source": [
    "R = {\"Okezie\", \"batho\", \"Odor\",\"Kaycee\",5,8,9}\n",
    "R"
   ]
  },
  {
   "cell_type": "code",
   "execution_count": 7,
   "id": "f1813060",
   "metadata": {},
   "outputs": [
    {
     "data": {
      "text/plain": [
       "{5, 8, 9, 'Kaycee', 'Odor', 'Okezie', 'batho'}"
      ]
     },
     "execution_count": 7,
     "metadata": {},
     "output_type": "execute_result"
    }
   ],
   "source": [
    "G = R.copy()\n",
    "\n",
    "G"
   ]
  },
  {
   "cell_type": "code",
   "execution_count": 9,
   "id": "0f406c53",
   "metadata": {},
   "outputs": [
    {
     "data": {
      "text/plain": [
       "set()"
      ]
     },
     "execution_count": 9,
     "metadata": {},
     "output_type": "execute_result"
    }
   ],
   "source": [
    "G.clear()\n",
    "\n",
    "G"
   ]
  },
  {
   "cell_type": "code",
   "execution_count": 18,
   "id": "0c94ddfd",
   "metadata": {},
   "outputs": [
    {
     "data": {
      "text/plain": [
       "{'Stan': 2, 'Tagbo': 4, 'Young': 5}"
      ]
     },
     "execution_count": 18,
     "metadata": {},
     "output_type": "execute_result"
    }
   ],
   "source": [
    "Q = {\"Stan\":2,\"Tagbo\":4,\"Young\":5}\n",
    "Q"
   ]
  },
  {
   "cell_type": "code",
   "execution_count": 23,
   "id": "e93840d9",
   "metadata": {},
   "outputs": [
    {
     "ename": "SyntaxError",
     "evalue": "invalid syntax (1270530261.py, line 1)",
     "output_type": "error",
     "traceback": [
      "\u001b[1;36m  File \u001b[1;32m\"C:\\Users\\Owner\\AppData\\Local\\Temp\\ipykernel_16964\\1270530261.py\"\u001b[1;36m, line \u001b[1;32m1\u001b[0m\n\u001b[1;33m    Q.update{\"Mike\":6}\u001b[0m\n\u001b[1;37m            ^\u001b[0m\n\u001b[1;31mSyntaxError\u001b[0m\u001b[1;31m:\u001b[0m invalid syntax\n"
     ]
    }
   ],
   "source": [
    "Q.update{\"Mike\":6}\n",
    "\n",
    "Q"
   ]
  },
  {
   "cell_type": "code",
   "execution_count": 26,
   "id": "b01f5aba",
   "metadata": {},
   "outputs": [
    {
     "data": {
      "text/plain": [
       "dict_values([2, 4, 5])"
      ]
     },
     "execution_count": 26,
     "metadata": {},
     "output_type": "execute_result"
    }
   ],
   "source": [
    "Q.values()"
   ]
  },
  {
   "cell_type": "code",
   "execution_count": 33,
   "id": "69528a08",
   "metadata": {},
   "outputs": [
    {
     "data": {
      "text/plain": [
       "{'Stan': 2, 'Tagbo': 4, 'Young': 5, 2: None, 9: None}"
      ]
     },
     "execution_count": 33,
     "metadata": {},
     "output_type": "execute_result"
    }
   ],
   "source": [
    "Q.setdefault(9)\n",
    "\n",
    "Q"
   ]
  },
  {
   "cell_type": "markdown",
   "id": "59c97ff5",
   "metadata": {},
   "source": [
    "Question 1\n",
    "\n",
    "Answer: Dictionary"
   ]
  },
  {
   "cell_type": "code",
   "execution_count": 37,
   "id": "1035d428",
   "metadata": {},
   "outputs": [
    {
     "data": {
      "text/plain": [
       "{'Alicia': 2,\n",
       " 'Ope': 3,\n",
       " 'Fiyin': 4,\n",
       " 'Timothy': 5,\n",
       " 'Grace': 6,\n",
       " 'Kunle': 7,\n",
       " 'Emeka': 8}"
      ]
     },
     "execution_count": 37,
     "metadata": {},
     "output_type": "execute_result"
    }
   ],
   "source": [
    "Students = {\"Alicia\":2, \"Ope\":3, \"Fiyin\":4,\"Timothy\":5,\"Grace\":6,\"Kunle\":7,\"Emeka\":8}\n",
    "Students"
   ]
  },
  {
   "cell_type": "code",
   "execution_count": 42,
   "id": "d5a3e0e7",
   "metadata": {},
   "outputs": [
    {
     "ename": "SyntaxError",
     "evalue": "invalid syntax (1360635369.py, line 1)",
     "output_type": "error",
     "traceback": [
      "\u001b[1;36m  File \u001b[1;32m\"C:\\Users\\Owner\\AppData\\Local\\Temp\\ipykernel_16964\\1360635369.py\"\u001b[1;36m, line \u001b[1;32m1\u001b[0m\n\u001b[1;33m    Students.update(\"Emeka\":9)\u001b[0m\n\u001b[1;37m                           ^\u001b[0m\n\u001b[1;31mSyntaxError\u001b[0m\u001b[1;31m:\u001b[0m invalid syntax\n"
     ]
    }
   ],
   "source": [
    "Students.update(\"Emeka\":9)\n",
    "\n",
    "Students"
   ]
  },
  {
   "cell_type": "markdown",
   "id": "4646b699",
   "metadata": {},
   "source": [
    "Question:2\n",
    "\n",
    "Answer: Sets"
   ]
  },
  {
   "cell_type": "code",
   "execution_count": 43,
   "id": "47997c94",
   "metadata": {},
   "outputs": [
    {
     "data": {
      "text/plain": [
       "{'Ope', 'Timothy'}"
      ]
     },
     "execution_count": 43,
     "metadata": {},
     "output_type": "execute_result"
    }
   ],
   "source": [
    "A = {\"Ope\", \"Fiyin\", \"Timothy\",\"Kunle\"}\n",
    "B = {\"Alicia\",\"Emeka\",\"Kenny\",\"Timothy\",\"Ope\"}\n",
    "\n",
    "A.intersection(B)"
   ]
  },
  {
   "cell_type": "markdown",
   "id": "a4706d2d",
   "metadata": {},
   "source": [
    "Questuin 3\n",
    "\n",
    "Answer: List"
   ]
  },
  {
   "cell_type": "code",
   "execution_count": 44,
   "id": "4f57fd02",
   "metadata": {},
   "outputs": [
    {
     "data": {
      "text/plain": [
       "['Ope', 'Alicia', 'Fiyin', 'Emeka', 'Kenny', 'Timoty', 'Grace', 'Kunle']"
      ]
     },
     "execution_count": 44,
     "metadata": {},
     "output_type": "execute_result"
    }
   ],
   "source": [
    "Students = [\"Ope\",\"Alicia\",\"Fiyin\",\"Emeka\",\"Kenny\",\"Timoty\",\"Grace\",\"Kunle\"]\n",
    "\n",
    "Students"
   ]
  },
  {
   "cell_type": "code",
   "execution_count": 46,
   "id": "101cdd2c",
   "metadata": {},
   "outputs": [
    {
     "data": {
      "text/plain": [
       "['Alicia', 'Emeka', 'Fiyin', 'Grace', 'Kenny', 'Kunle', 'Ope', 'Timoty']"
      ]
     },
     "execution_count": 46,
     "metadata": {},
     "output_type": "execute_result"
    }
   ],
   "source": [
    "Students.sort()\n",
    "Students"
   ]
  },
  {
   "cell_type": "markdown",
   "id": "30d0d117",
   "metadata": {},
   "source": [
    "Question 4"
   ]
  },
  {
   "cell_type": "code",
   "execution_count": 47,
   "id": "378d0f1c",
   "metadata": {},
   "outputs": [
    {
     "data": {
      "text/plain": [
       "['Timoty', 'Ope', 'Kunle', 'Kenny', 'Grace', 'Fiyin', 'Emeka', 'Alicia']"
      ]
     },
     "execution_count": 47,
     "metadata": {},
     "output_type": "execute_result"
    }
   ],
   "source": [
    "Students.reverse()\n",
    "\n",
    "Students"
   ]
  },
  {
   "cell_type": "code",
   "execution_count": null,
   "id": "6832eae6",
   "metadata": {},
   "outputs": [],
   "source": []
  }
 ],
 "metadata": {
  "kernelspec": {
   "display_name": "Python 3 (ipykernel)",
   "language": "python",
   "name": "python3"
  },
  "language_info": {
   "codemirror_mode": {
    "name": "ipython",
    "version": 3
   },
   "file_extension": ".py",
   "mimetype": "text/x-python",
   "name": "python",
   "nbconvert_exporter": "python",
   "pygments_lexer": "ipython3",
   "version": "3.9.13"
  }
 },
 "nbformat": 4,
 "nbformat_minor": 5
}
