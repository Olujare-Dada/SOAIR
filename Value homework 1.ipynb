{
 "cells": [
  {
   "cell_type": "markdown",
   "id": "3446577e",
   "metadata": {},
   "source": [
    "Homework\n",
    "Answer the following questions: https://quizizz.com/admin/quiz/5cd4265c88978d001a646e68/python-arithmetic-operators\n",
    "\n",
    "The formula for converting between Celsius and Fahrenheit is \n",
    " \n",
    ". Write this formula in python and use it to convert \n",
    "F to celsius\n",
    "\n",
    "The area of a Stadium of length 500m and breadth 200m (Hint: Area = length x breadth)\n",
    "\n",
    "The volume of a tank of length 240cm, breadth 160cm and 268cm wide. (Hint: Volume = Length x breadth x width)\n",
    "\n",
    "The simple interest at a principal of 250,000 naira, rate of 6% and in two years. (Hint: Simple Interest =( principal x rate x time)/100)\n",
    "\n",
    "Goods in a container cost 120,000,000 naira. If the goods were sold at 150,000,000 naira, what is the percentage profit on the gooods. (Hint: profit = Selling price – cost price) (Percentage profit = (profit/cost price) x 100)"
   ]
  },
  {
   "cell_type": "code",
   "execution_count": null,
   "id": "df155053",
   "metadata": {},
   "outputs": [],
   "source": [
    "2 + 2"
   ]
  },
  {
   "cell_type": "code",
   "execution_count": 2,
   "id": "ccbc423e",
   "metadata": {},
   "outputs": [
    {
     "data": {
      "text/plain": [
       "2"
      ]
     },
     "execution_count": 2,
     "metadata": {},
     "output_type": "execute_result"
    }
   ],
   "source": [
    "1 + 1"
   ]
  },
  {
   "cell_type": "code",
   "execution_count": 3,
   "id": "ed2ee55f",
   "metadata": {},
   "outputs": [
    {
     "data": {
      "text/plain": [
       "34.400000000000006"
      ]
     },
     "execution_count": 3,
     "metadata": {},
     "output_type": "execute_result"
    }
   ],
   "source": [
    "10.8 + 23.6"
   ]
  },
  {
   "cell_type": "code",
   "execution_count": 4,
   "id": "f94375a7",
   "metadata": {},
   "outputs": [
    {
     "data": {
      "text/plain": [
       "1"
      ]
     },
     "execution_count": 4,
     "metadata": {},
     "output_type": "execute_result"
    }
   ],
   "source": [
    "3 - 2"
   ]
  },
  {
   "cell_type": "code",
   "execution_count": 5,
   "id": "e3b31f9f",
   "metadata": {},
   "outputs": [
    {
     "name": "stdout",
     "output_type": "stream",
     "text": [
      "12\n"
     ]
    }
   ],
   "source": [
    "print(2+10)"
   ]
  },
  {
   "cell_type": "code",
   "execution_count": 6,
   "id": "1977497a",
   "metadata": {},
   "outputs": [
    {
     "data": {
      "text/plain": [
       "4.0"
      ]
     },
     "execution_count": 6,
     "metadata": {},
     "output_type": "execute_result"
    }
   ],
   "source": [
    "12 / 3"
   ]
  },
  {
   "cell_type": "code",
   "execution_count": 8,
   "id": "4f85c668",
   "metadata": {},
   "outputs": [
    {
     "data": {
      "text/plain": [
       "2.5"
      ]
     },
     "execution_count": 8,
     "metadata": {},
     "output_type": "execute_result"
    }
   ],
   "source": [
    "5 / 2"
   ]
  },
  {
   "cell_type": "markdown",
   "id": "bb639deb",
   "metadata": {},
   "source": [
    "Any numbers divided by Zero(0) will always give a ERROR, ZEROERROR DIV"
   ]
  },
  {
   "cell_type": "code",
   "execution_count": 10,
   "id": "8f787732",
   "metadata": {},
   "outputs": [
    {
     "data": {
      "text/plain": [
       "8"
      ]
     },
     "execution_count": 10,
     "metadata": {},
     "output_type": "execute_result"
    }
   ],
   "source": [
    "2 * 4"
   ]
  },
  {
   "cell_type": "code",
   "execution_count": 13,
   "id": "70fda6e4",
   "metadata": {},
   "outputs": [
    {
     "data": {
      "text/plain": [
       "16"
      ]
     },
     "execution_count": 13,
     "metadata": {},
     "output_type": "execute_result"
    }
   ],
   "source": [
    "2 ** 4"
   ]
  },
  {
   "cell_type": "code",
   "execution_count": 14,
   "id": "405a4f9c",
   "metadata": {},
   "outputs": [
    {
     "data": {
      "text/plain": [
       "1"
      ]
     },
     "execution_count": 14,
     "metadata": {},
     "output_type": "execute_result"
    }
   ],
   "source": [
    "5 % 2"
   ]
  },
  {
   "cell_type": "markdown",
   "id": "da447990",
   "metadata": {},
   "source": [
    "Percentage symbol(%) is used for Modulo in Python i.e remainder of divided numbers."
   ]
  },
  {
   "cell_type": "code",
   "execution_count": 18,
   "id": "b729ff12",
   "metadata": {},
   "outputs": [
    {
     "data": {
      "text/plain": [
       "3"
      ]
     },
     "execution_count": 18,
     "metadata": {},
     "output_type": "execute_result"
    }
   ],
   "source": [
    "7 // 2"
   ]
  },
  {
   "cell_type": "markdown",
   "id": "89df8ada",
   "metadata": {},
   "source": [
    "Two stroke lines (//) is used to identify an Integer Division which give the exact answer for division. Opposite of a Modulo."
   ]
  },
  {
   "cell_type": "code",
   "execution_count": 19,
   "id": "149a90ce",
   "metadata": {},
   "outputs": [
    {
     "data": {
      "text/plain": [
       "-80"
      ]
     },
     "execution_count": 19,
     "metadata": {},
     "output_type": "execute_result"
    }
   ],
   "source": [
    "x = 5\n",
    "\n",
    "#x = 10\n",
    "\n",
    "x = -80\n",
    "\n",
    "x"
   ]
  },
  {
   "cell_type": "code",
   "execution_count": 20,
   "id": "21d714cc",
   "metadata": {},
   "outputs": [],
   "source": [
    "x = \"boy\""
   ]
  },
  {
   "cell_type": "code",
   "execution_count": 21,
   "id": "6a02d9fe",
   "metadata": {},
   "outputs": [],
   "source": [
    "y = \"girl\""
   ]
  },
  {
   "cell_type": "code",
   "execution_count": 23,
   "id": "aabc094b",
   "metadata": {},
   "outputs": [
    {
     "data": {
      "text/plain": [
       "'girl'"
      ]
     },
     "execution_count": 23,
     "metadata": {},
     "output_type": "execute_result"
    }
   ],
   "source": [
    "x = y\n",
    "x"
   ]
  },
  {
   "cell_type": "code",
   "execution_count": 24,
   "id": "75de28eb",
   "metadata": {},
   "outputs": [],
   "source": [
    "x = \"boy\""
   ]
  },
  {
   "cell_type": "code",
   "execution_count": 6,
   "id": "3a9749f1",
   "metadata": {},
   "outputs": [],
   "source": [
    "y = \"girl\""
   ]
  },
  {
   "cell_type": "code",
   "execution_count": null,
   "id": "7bd83635",
   "metadata": {},
   "outputs": [],
   "source": [
    "y=x\n",
    "\n",
    "y"
   ]
  },
  {
   "cell_type": "code",
   "execution_count": 13,
   "id": "4130fda5",
   "metadata": {},
   "outputs": [
    {
     "data": {
      "text/plain": [
       "4"
      ]
     },
     "execution_count": 13,
     "metadata": {},
     "output_type": "execute_result"
    }
   ],
   "source": [
    "2 + 2"
   ]
  },
  {
   "cell_type": "markdown",
   "id": "8f4f7245",
   "metadata": {},
   "source": [
    "a=5, b= 10, c=-50\n"
   ]
  },
  {
   "cell_type": "code",
   "execution_count": 14,
   "id": "8ede8584",
   "metadata": {},
   "outputs": [
    {
     "data": {
      "text/plain": [
       "2.3166247903554003"
      ]
     },
     "execution_count": 14,
     "metadata": {},
     "output_type": "execute_result"
    }
   ],
   "source": [
    "import math\n",
    "\n",
    "a = 5\n",
    "b = 10\n",
    "c = -50\n",
    "\n",
    "x_1 = (-b + math.sqrt(b**2 - 4*a*c))/(2*a)\n",
    "x_2 = (-b-math.sqrt(b**2 - 4*a*c))/(2*a)\n",
    "\n",
    "x_1"
   ]
  },
  {
   "cell_type": "code",
   "execution_count": 15,
   "id": "6bcb4425",
   "metadata": {},
   "outputs": [
    {
     "data": {
      "text/plain": [
       "-4.3166247903554"
      ]
     },
     "execution_count": 15,
     "metadata": {},
     "output_type": "execute_result"
    }
   ],
   "source": [
    "x_2"
   ]
  },
  {
   "cell_type": "code",
   "execution_count": 16,
   "id": "af1ace83",
   "metadata": {},
   "outputs": [
    {
     "data": {
      "text/plain": [
       "212.1"
      ]
     },
     "execution_count": 16,
     "metadata": {},
     "output_type": "execute_result"
    }
   ],
   "source": [
    "mean = (137+205+300+215+228+197+296+144+177+222)/10\n",
    "\n",
    "mean"
   ]
  },
  {
   "cell_type": "code",
   "execution_count": 23,
   "id": "726e71f2",
   "metadata": {},
   "outputs": [
    {
     "data": {
      "text/plain": [
       "64.0"
      ]
     },
     "execution_count": 23,
     "metadata": {},
     "output_type": "execute_result"
    }
   ],
   "source": [
    "import math\n",
    "\n",
    "h=8\n",
    "m=6\n",
    "n=10\n",
    "\n",
    "A_t = (h*(m+n))/(2)\n",
    "\n",
    "A_t = (8*(6+10))/(2)\n",
    "\n",
    "A_t"
   ]
  },
  {
   "cell_type": "code",
   "execution_count": 7,
   "id": "3a2c24b5",
   "metadata": {},
   "outputs": [
    {
     "ename": "SyntaxError",
     "evalue": "invalid syntax (490945719.py, line 5)",
     "output_type": "error",
     "traceback": [
      "\u001b[1;36m  File \u001b[1;32m\"C:\\Users\\user\\AppData\\Local\\Temp\\ipykernel_6100\\490945719.py\"\u001b[1;36m, line \u001b[1;32m5\u001b[0m\n\u001b[1;33m    C=(32F - 32) * 5/9\u001b[0m\n\u001b[1;37m         ^\u001b[0m\n\u001b[1;31mSyntaxError\u001b[0m\u001b[1;31m:\u001b[0m invalid syntax\n"
     ]
    }
   ],
   "source": [
    "import math\n",
    "\n",
    "f=200\n",
    "\n",
    "C=(32F - 32) * 5/9\n",
    "\n",
    "C=(32*(200) - 32) * 5/9\n",
    "\n",
    "C"
   ]
  },
  {
   "cell_type": "code",
   "execution_count": 26,
   "id": "afcd7cf8",
   "metadata": {},
   "outputs": [
    {
     "data": {
      "text/plain": [
       "100000"
      ]
     },
     "execution_count": 26,
     "metadata": {},
     "output_type": "execute_result"
    }
   ],
   "source": [
    "import math\n",
    "\n",
    "l=500\n",
    "b=200\n",
    "\n",
    "A = l * b\n",
    "\n",
    "A = 500 * 200\n",
    "\n",
    "A"
   ]
  },
  {
   "cell_type": "code",
   "execution_count": 28,
   "id": "1abdeebb",
   "metadata": {},
   "outputs": [
    {
     "data": {
      "text/plain": [
       "10291200"
      ]
     },
     "execution_count": 28,
     "metadata": {},
     "output_type": "execute_result"
    }
   ],
   "source": [
    "import math\n",
    "\n",
    "l=240\n",
    "b=160\n",
    "w=268\n",
    "\n",
    "V= l * b * w\n",
    "\n",
    "V= 240 * 160 * 268\n",
    "\n",
    "V"
   ]
  },
  {
   "cell_type": "code",
   "execution_count": 1,
   "id": "8b338603",
   "metadata": {},
   "outputs": [
    {
     "data": {
      "text/plain": [
       "300.0"
      ]
     },
     "execution_count": 1,
     "metadata": {},
     "output_type": "execute_result"
    }
   ],
   "source": [
    "import math\n",
    "\n",
    "p=250000\n",
    "r=0.06\n",
    "t=2\n",
    "\n",
    "SI= (p * r * t) / 100\n",
    "\n",
    "SI= (250000 * 0.06 * 2) / 100\n",
    "\n",
    "SI"
   ]
  },
  {
   "cell_type": "code",
   "execution_count": 2,
   "id": "1f252ee6",
   "metadata": {},
   "outputs": [
    {
     "data": {
      "text/plain": [
       "30000000"
      ]
     },
     "execution_count": 2,
     "metadata": {},
     "output_type": "execute_result"
    }
   ],
   "source": [
    "import math\n",
    "\n",
    "SP=150000000\n",
    "CP=120000000\n",
    "\n",
    "P = SP - CP\n",
    "\n",
    "P =150000000 - 120000000\n",
    "\n",
    "P"
   ]
  },
  {
   "cell_type": "code",
   "execution_count": 13,
   "id": "a09dc43c",
   "metadata": {},
   "outputs": [
    {
     "data": {
      "text/plain": [
       "25.0"
      ]
     },
     "execution_count": 13,
     "metadata": {},
     "output_type": "execute_result"
    }
   ],
   "source": [
    "import math\n",
    " \n",
    "Profit=30000000\n",
    "costprice=120000000\n",
    "\n",
    "Percentageprofit = (Profit/costprice) * 100\n",
    "\n",
    "Percentageprofit = (30000000 / 120000000) * 100\n",
    "\n",
    "Percentageprofit"
   ]
  },
  {
   "cell_type": "code",
   "execution_count": null,
   "id": "0af2a0bb",
   "metadata": {},
   "outputs": [],
   "source": []
  }
 ],
 "metadata": {
  "kernelspec": {
   "display_name": "Python 3 (ipykernel)",
   "language": "python",
   "name": "python3"
  },
  "language_info": {
   "codemirror_mode": {
    "name": "ipython",
    "version": 3
   },
   "file_extension": ".py",
   "mimetype": "text/x-python",
   "name": "python",
   "nbconvert_exporter": "python",
   "pygments_lexer": "ipython3",
   "version": "3.9.13"
  }
 },
 "nbformat": 4,
 "nbformat_minor": 5
}
