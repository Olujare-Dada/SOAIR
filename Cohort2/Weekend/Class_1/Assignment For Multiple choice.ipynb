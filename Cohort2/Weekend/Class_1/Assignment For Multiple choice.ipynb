{
 "cells": [
  {
   "cell_type": "markdown",
   "id": "2b88daa4",
   "metadata": {},
   "source": [
    "## Nathaniel's Assignment "
   ]
  },
  {
   "cell_type": "markdown",
   "id": "627f69cc",
   "metadata": {},
   "source": [
    "Question 1\n"
   ]
  },
  {
   "cell_type": "markdown",
   "id": "ed8c5cb4",
   "metadata": {},
   "source": [
    "\n",
    "1) Addition\n",
    "\n",
    "2) Subtraction\n",
    "\n",
    "3) Multiplication\n",
    "\n",
    "4) division\n",
    "\n",
    "5) Raise to power(Exponent)\n",
    "\n",
    "6) Integer\n",
    "\n",
    "7) Boolean\n",
    "\n",
    "8) Modulo\n",
    "\n",
    "9) Integer division\n",
    "\n",
    "10) variable\n",
    "\n",
    "11) A list of steps you follow to finish a task\n",
    "\n",
    "12) computer science\n",
    "\n",
    "13) variable \n",
    "\n",
    "\n",
    "\n"
   ]
  },
  {
   "cell_type": "markdown",
   "id": "2ae1b438",
   "metadata": {},
   "source": [
    "Question 2"
   ]
  },
  {
   "cell_type": "code",
   "execution_count": 4,
   "id": "798370d1",
   "metadata": {},
   "outputs": [],
   "source": [
    "F =200\n"
   ]
  },
  {
   "cell_type": "code",
   "execution_count": 5,
   "id": "2e025c68",
   "metadata": {},
   "outputs": [],
   "source": [
    "C =(32*F - 32) * (5/9) "
   ]
  },
  {
   "cell_type": "code",
   "execution_count": 9,
   "id": "976d4eed",
   "metadata": {},
   "outputs": [
    {
     "name": "stdout",
     "output_type": "stream",
     "text": [
      "3537.777777777778\n"
     ]
    }
   ],
   "source": [
    "print (C)"
   ]
  },
  {
   "cell_type": "markdown",
   "id": "41350e74",
   "metadata": {},
   "source": [
    "Question 3"
   ]
  },
  {
   "cell_type": "markdown",
   "id": "eceb2e6b",
   "metadata": {},
   "source": [
    "Area Of A Stadium "
   ]
  },
  {
   "cell_type": "code",
   "execution_count": 11,
   "id": "f675f8a6",
   "metadata": {},
   "outputs": [],
   "source": [
    "L, B = 500, 200\n"
   ]
  },
  {
   "cell_type": "code",
   "execution_count": 13,
   "id": "864be871",
   "metadata": {},
   "outputs": [
    {
     "name": "stdout",
     "output_type": "stream",
     "text": [
      "100000\n"
     ]
    }
   ],
   "source": [
    "A = L*B\n",
    "print (A)"
   ]
  },
  {
   "cell_type": "markdown",
   "id": "fde87b73",
   "metadata": {},
   "source": [
    "Question 4"
   ]
  },
  {
   "cell_type": "markdown",
   "id": "5db882fa",
   "metadata": {},
   "source": [
    "Volume of tank?"
   ]
  },
  {
   "cell_type": "code",
   "execution_count": 17,
   "id": "6fcaac3d",
   "metadata": {},
   "outputs": [],
   "source": [
    "\n",
    "L, B, W = 240,160,268"
   ]
  },
  {
   "cell_type": "code",
   "execution_count": 22,
   "id": "1f418336",
   "metadata": {},
   "outputs": [
    {
     "name": "stdout",
     "output_type": "stream",
     "text": [
      "10291200\n"
     ]
    }
   ],
   "source": [
    "V =L * B * W\n",
    "print (V)"
   ]
  },
  {
   "cell_type": "markdown",
   "id": "a07abd13",
   "metadata": {},
   "source": [
    "Question 5"
   ]
  },
  {
   "cell_type": "code",
   "execution_count": 24,
   "id": "b6e03f45",
   "metadata": {},
   "outputs": [],
   "source": [
    "P, r, t = 250000, (6/100), 2"
   ]
  },
  {
   "cell_type": "code",
   "execution_count": 26,
   "id": "afc1d752",
   "metadata": {},
   "outputs": [
    {
     "name": "stdout",
     "output_type": "stream",
     "text": [
      "300.0\n"
     ]
    }
   ],
   "source": [
    "S = (P*r*t)/100\n",
    "print (S)"
   ]
  },
  {
   "cell_type": "markdown",
   "id": "3b516d14",
   "metadata": {},
   "source": [
    "Question 6"
   ]
  },
  {
   "cell_type": "code",
   "execution_count": 27,
   "id": "8a5d5b8d",
   "metadata": {},
   "outputs": [],
   "source": [
    "SP, CP = 150000000, 120000000\n"
   ]
  },
  {
   "cell_type": "code",
   "execution_count": 29,
   "id": "90c04945",
   "metadata": {},
   "outputs": [
    {
     "name": "stdout",
     "output_type": "stream",
     "text": [
      "30000000\n"
     ]
    }
   ],
   "source": [
    "Profit = SP-CP\n",
    "print(Profit)"
   ]
  },
  {
   "cell_type": "code",
   "execution_count": 31,
   "id": "1909c0e7",
   "metadata": {},
   "outputs": [
    {
     "name": "stdout",
     "output_type": "stream",
     "text": [
      "25.0\n"
     ]
    }
   ],
   "source": [
    "ProfitPerc = (Profit/CP)*100\n",
    "print (ProfitPerc)"
   ]
  },
  {
   "cell_type": "code",
   "execution_count": null,
   "id": "b839007f",
   "metadata": {},
   "outputs": [],
   "source": []
  }
 ],
 "metadata": {
  "kernelspec": {
   "display_name": "Python 3 (ipykernel)",
   "language": "python",
   "name": "python3"
  },
  "language_info": {
   "codemirror_mode": {
    "name": "ipython",
    "version": 3
   },
   "file_extension": ".py",
   "mimetype": "text/x-python",
   "name": "python",
   "nbconvert_exporter": "python",
   "pygments_lexer": "ipython3",
   "version": "3.9.13"
  }
 },
 "nbformat": 4,
 "nbformat_minor": 5
}
