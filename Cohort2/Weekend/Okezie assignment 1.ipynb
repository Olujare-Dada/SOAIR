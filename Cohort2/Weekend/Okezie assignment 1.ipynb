{
 "cells": [
  {
   "cell_type": "markdown",
   "id": "f1f6fc42",
   "metadata": {},
   "source": [
    "Question 2: "
   ]
  },
  {
   "cell_type": "code",
   "execution_count": 10,
   "id": "55845283",
   "metadata": {},
   "outputs": [],
   "source": [
    "F =200"
   ]
  },
  {
   "cell_type": "code",
   "execution_count": 15,
   "id": "13a48cb2",
   "metadata": {},
   "outputs": [],
   "source": [
    "C =(32*F - 32) * (5/9)"
   ]
  },
  {
   "cell_type": "code",
   "execution_count": 16,
   "id": "e3b01970",
   "metadata": {},
   "outputs": [
    {
     "name": "stdout",
     "output_type": "stream",
     "text": [
      "3537.777777777778\n"
     ]
    }
   ],
   "source": [
    "print "
   ]
  },
  {
   "cell_type": "markdown",
   "id": "db12de6a",
   "metadata": {},
   "source": [
    "Question 3"
   ]
  },
  {
   "cell_type": "code",
   "execution_count": 17,
   "id": "ff2a3f92",
   "metadata": {},
   "outputs": [],
   "source": [
    "L,B =500,200"
   ]
  },
  {
   "cell_type": "code",
   "execution_count": 18,
   "id": "9776af98",
   "metadata": {},
   "outputs": [],
   "source": [
    "A =L*B"
   ]
  },
  {
   "cell_type": "code",
   "execution_count": 19,
   "id": "4f4553db",
   "metadata": {},
   "outputs": [
    {
     "name": "stdout",
     "output_type": "stream",
     "text": [
      "100000\n"
     ]
    }
   ],
   "source": [
    "print (A)"
   ]
  },
  {
   "cell_type": "markdown",
   "id": "494573a5",
   "metadata": {},
   "source": [
    "Question 4"
   ]
  },
  {
   "cell_type": "code",
   "execution_count": 20,
   "id": "4cb3beb1",
   "metadata": {},
   "outputs": [],
   "source": [
    "L,B,W =240,160,268"
   ]
  },
  {
   "cell_type": "code",
   "execution_count": 21,
   "id": "105d3a94",
   "metadata": {},
   "outputs": [],
   "source": [
    "V =L*B*W"
   ]
  },
  {
   "cell_type": "code",
   "execution_count": 22,
   "id": "2d23dd58",
   "metadata": {},
   "outputs": [
    {
     "name": "stdout",
     "output_type": "stream",
     "text": [
      "10291200\n"
     ]
    }
   ],
   "source": [
    "print (V)"
   ]
  },
  {
   "cell_type": "markdown",
   "id": "1cd250d3",
   "metadata": {},
   "source": [
    "Question 5"
   ]
  },
  {
   "cell_type": "code",
   "execution_count": 23,
   "id": "a62f5e57",
   "metadata": {},
   "outputs": [],
   "source": [
    "P,R,T =250000,6,2"
   ]
  },
  {
   "cell_type": "code",
   "execution_count": 24,
   "id": "d1e1d66e",
   "metadata": {},
   "outputs": [],
   "source": [
    "I =250000*6*2/100"
   ]
  },
  {
   "cell_type": "code",
   "execution_count": 25,
   "id": "7b1c085a",
   "metadata": {},
   "outputs": [
    {
     "name": "stdout",
     "output_type": "stream",
     "text": [
      "30000.0\n"
     ]
    }
   ],
   "source": [
    "print (I)"
   ]
  },
  {
   "cell_type": "markdown",
   "id": "cb775fca",
   "metadata": {},
   "source": [
    "Question 6"
   ]
  },
  {
   "cell_type": "code",
   "execution_count": null,
   "id": "2e7993e2",
   "metadata": {},
   "outputs": [],
   "source": [
    "S,C =150000000,120000000"
   ]
  },
  {
   "cell_type": "code",
   "execution_count": 31,
   "id": "0be51cbd",
   "metadata": {},
   "outputs": [],
   "source": [
    "G =S-C"
   ]
  },
  {
   "cell_type": "code",
   "execution_count": 32,
   "id": "3ea24927",
   "metadata": {},
   "outputs": [],
   "source": [
    "P =G/C * 100"
   ]
  },
  {
   "cell_type": "code",
   "execution_count": 33,
   "id": "c60233d4",
   "metadata": {},
   "outputs": [
    {
     "name": "stdout",
     "output_type": "stream",
     "text": [
      "25.0\n"
     ]
    }
   ],
   "source": [
    "print (P)"
   ]
  },
  {
   "cell_type": "code",
   "execution_count": null,
   "id": "4ad48c33",
   "metadata": {},
   "outputs": [],
   "source": []
  }
 ],
 "metadata": {
  "kernelspec": {
   "display_name": "Python 3 (ipykernel)",
   "language": "python",
   "name": "python3"
  },
  "language_info": {
   "codemirror_mode": {
    "name": "ipython",
    "version": 3
   },
   "file_extension": ".py",
   "mimetype": "text/x-python",
   "name": "python",
   "nbconvert_exporter": "python",
   "pygments_lexer": "ipython3",
   "version": "3.9.13"
  }
 },
 "nbformat": 4,
 "nbformat_minor": 5
}
