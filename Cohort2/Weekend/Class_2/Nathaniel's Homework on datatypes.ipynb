{
 "cells": [
  {
   "cell_type": "code",
   "execution_count": 99,
   "id": "267884bb",
   "metadata": {},
   "outputs": [
    {
     "data": {
      "text/plain": [
       "'C:\\\\Users\\\\NATH'"
      ]
     },
     "execution_count": 99,
     "metadata": {},
     "output_type": "execute_result"
    }
   ],
   "source": [
    "pwd"
   ]
  },
  {
   "cell_type": "code",
   "execution_count": 100,
   "id": "c001493f",
   "metadata": {},
   "outputs": [
    {
     "name": "stdout",
     "output_type": "stream",
     "text": [
      "C:\\Users\\NATH\\Desktop\n"
     ]
    }
   ],
   "source": [
    "cd Desktop"
   ]
  },
  {
   "cell_type": "code",
   "execution_count": 111,
   "id": "4c290296",
   "metadata": {},
   "outputs": [
    {
     "data": {
      "text/html": [
       "<div>\n",
       "<style scoped>\n",
       "    .dataframe tbody tr th:only-of-type {\n",
       "        vertical-align: middle;\n",
       "    }\n",
       "\n",
       "    .dataframe tbody tr th {\n",
       "        vertical-align: top;\n",
       "    }\n",
       "\n",
       "    .dataframe thead th {\n",
       "        text-align: right;\n",
       "    }\n",
       "</style>\n",
       "<table border=\"1\" class=\"dataframe\">\n",
       "  <thead>\n",
       "    <tr style=\"text-align: right;\">\n",
       "      <th></th>\n",
       "      <th>Firstname</th>\n",
       "      <th>Lastname</th>\n",
       "      <th>age</th>\n",
       "      <th>sales</th>\n",
       "      <th>cost</th>\n",
       "      <th>email</th>\n",
       "    </tr>\n",
       "  </thead>\n",
       "  <tbody>\n",
       "    <tr>\n",
       "      <th>0</th>\n",
       "      <td>Olanrewaju</td>\n",
       "      <td>Kazeem</td>\n",
       "      <td>[24]</td>\n",
       "      <td>15000</td>\n",
       "      <td>11000</td>\n",
       "      <td>olankaz248@outlook.com</td>\n",
       "    </tr>\n",
       "    <tr>\n",
       "      <th>1</th>\n",
       "      <td>Chibuzo</td>\n",
       "      <td>Ekenne</td>\n",
       "      <td>[30]</td>\n",
       "      <td>25800</td>\n",
       "      <td>15200</td>\n",
       "      <td>chiman_ekeneks@yahoo.com</td>\n",
       "    </tr>\n",
       "    <tr>\n",
       "      <th>2</th>\n",
       "      <td>Onyinyechi</td>\n",
       "      <td>Amos</td>\n",
       "      <td>[22]</td>\n",
       "      <td>45000</td>\n",
       "      <td>28000</td>\n",
       "      <td>onyiamos22@gmail.com</td>\n",
       "    </tr>\n",
       "    <tr>\n",
       "      <th>3</th>\n",
       "      <td>Orlando</td>\n",
       "      <td>Bloom</td>\n",
       "      <td>[25]</td>\n",
       "      <td>28000</td>\n",
       "      <td>22000</td>\n",
       "      <td>earlyman01@ymail.com</td>\n",
       "    </tr>\n",
       "    <tr>\n",
       "      <th>4</th>\n",
       "      <td>Alex</td>\n",
       "      <td>Iwobi</td>\n",
       "      <td>[34]</td>\n",
       "      <td>36500</td>\n",
       "      <td>18850</td>\n",
       "      <td>iwo.alex_007@gmail.com</td>\n",
       "    </tr>\n",
       "    <tr>\n",
       "      <th>5</th>\n",
       "      <td>Kachi</td>\n",
       "      <td>Felix</td>\n",
       "      <td>[50]</td>\n",
       "      <td>44235</td>\n",
       "      <td>33218</td>\n",
       "      <td>felix_kach@protonmail.com</td>\n",
       "    </tr>\n",
       "    <tr>\n",
       "      <th>6</th>\n",
       "      <td>Olujare</td>\n",
       "      <td>Dada</td>\n",
       "      <td>[28]</td>\n",
       "      <td>27500</td>\n",
       "      <td>25800</td>\n",
       "      <td>olu59_dada@zohomail.com</td>\n",
       "    </tr>\n",
       "    <tr>\n",
       "      <th>7</th>\n",
       "      <td>Tomiwa</td>\n",
       "      <td>Sogaolu</td>\n",
       "      <td>[42]</td>\n",
       "      <td>50509</td>\n",
       "      <td>34850</td>\n",
       "      <td>tommySolu@icloudmail.com</td>\n",
       "    </tr>\n",
       "    <tr>\n",
       "      <th>8</th>\n",
       "      <td>Timilehin</td>\n",
       "      <td>Kupolokun</td>\n",
       "      <td>[49]</td>\n",
       "      <td>88390</td>\n",
       "      <td>76001</td>\n",
       "      <td>timikupo11@outlook.com</td>\n",
       "    </tr>\n",
       "    <tr>\n",
       "      <th>9</th>\n",
       "      <td>Nnena</td>\n",
       "      <td>Dickson</td>\n",
       "      <td>[39]</td>\n",
       "      <td>122200</td>\n",
       "      <td>85900</td>\n",
       "      <td>nene33@gmail.com</td>\n",
       "    </tr>\n",
       "  </tbody>\n",
       "</table>\n",
       "</div>"
      ],
      "text/plain": [
       "    Firstname   Lastname   age   sales   cost                      email\n",
       "0  Olanrewaju     Kazeem  [24]   15000  11000     olankaz248@outlook.com\n",
       "1     Chibuzo     Ekenne  [30]   25800  15200   chiman_ekeneks@yahoo.com\n",
       "2  Onyinyechi       Amos  [22]   45000  28000       onyiamos22@gmail.com\n",
       "3     Orlando      Bloom  [25]   28000  22000       earlyman01@ymail.com\n",
       "4        Alex      Iwobi  [34]   36500  18850     iwo.alex_007@gmail.com\n",
       "5       Kachi      Felix  [50]   44235  33218  felix_kach@protonmail.com\n",
       "6     Olujare       Dada  [28]   27500  25800    olu59_dada@zohomail.com\n",
       "7      Tomiwa    Sogaolu  [42]   50509  34850   tommySolu@icloudmail.com\n",
       "8   Timilehin  Kupolokun  [49]   88390  76001     timikupo11@outlook.com\n",
       "9       Nnena    Dickson  [39]  122200  85900           nene33@gmail.com"
      ]
     },
     "execution_count": 111,
     "metadata": {},
     "output_type": "execute_result"
    }
   ],
   "source": [
    "df = pd.read_csv(\"working_with_tables_homework.csv\")\n",
    "df"
   ]
  },
  {
   "cell_type": "code",
   "execution_count": 113,
   "id": "7a962547",
   "metadata": {},
   "outputs": [],
   "source": [
    "df[\"Email_company\"] = df[\"email\"].str.partition(\"@\")[2]"
   ]
  },
  {
   "cell_type": "code",
   "execution_count": 116,
   "id": "753fb4a6",
   "metadata": {},
   "outputs": [
    {
     "data": {
      "text/html": [
       "<div>\n",
       "<style scoped>\n",
       "    .dataframe tbody tr th:only-of-type {\n",
       "        vertical-align: middle;\n",
       "    }\n",
       "\n",
       "    .dataframe tbody tr th {\n",
       "        vertical-align: top;\n",
       "    }\n",
       "\n",
       "    .dataframe thead th {\n",
       "        text-align: right;\n",
       "    }\n",
       "</style>\n",
       "<table border=\"1\" class=\"dataframe\">\n",
       "  <thead>\n",
       "    <tr style=\"text-align: right;\">\n",
       "      <th></th>\n",
       "      <th>Firstname</th>\n",
       "      <th>Lastname</th>\n",
       "      <th>age</th>\n",
       "      <th>sales</th>\n",
       "      <th>cost</th>\n",
       "      <th>email</th>\n",
       "      <th>Email_company</th>\n",
       "    </tr>\n",
       "  </thead>\n",
       "  <tbody>\n",
       "    <tr>\n",
       "      <th>0</th>\n",
       "      <td>Olanrewaju</td>\n",
       "      <td>Kazeem</td>\n",
       "      <td>[24]</td>\n",
       "      <td>15000</td>\n",
       "      <td>11000</td>\n",
       "      <td>olankaz248@outlook.com</td>\n",
       "      <td>outlook.com</td>\n",
       "    </tr>\n",
       "    <tr>\n",
       "      <th>1</th>\n",
       "      <td>Chibuzo</td>\n",
       "      <td>Ekenne</td>\n",
       "      <td>[30]</td>\n",
       "      <td>25800</td>\n",
       "      <td>15200</td>\n",
       "      <td>chiman_ekeneks@yahoo.com</td>\n",
       "      <td>yahoo.com</td>\n",
       "    </tr>\n",
       "    <tr>\n",
       "      <th>2</th>\n",
       "      <td>Onyinyechi</td>\n",
       "      <td>Amos</td>\n",
       "      <td>[22]</td>\n",
       "      <td>45000</td>\n",
       "      <td>28000</td>\n",
       "      <td>onyiamos22@gmail.com</td>\n",
       "      <td>gmail.com</td>\n",
       "    </tr>\n",
       "    <tr>\n",
       "      <th>3</th>\n",
       "      <td>Orlando</td>\n",
       "      <td>Bloom</td>\n",
       "      <td>[25]</td>\n",
       "      <td>28000</td>\n",
       "      <td>22000</td>\n",
       "      <td>earlyman01@ymail.com</td>\n",
       "      <td>ymail.com</td>\n",
       "    </tr>\n",
       "    <tr>\n",
       "      <th>4</th>\n",
       "      <td>Alex</td>\n",
       "      <td>Iwobi</td>\n",
       "      <td>[34]</td>\n",
       "      <td>36500</td>\n",
       "      <td>18850</td>\n",
       "      <td>iwo.alex_007@gmail.com</td>\n",
       "      <td>gmail.com</td>\n",
       "    </tr>\n",
       "    <tr>\n",
       "      <th>5</th>\n",
       "      <td>Kachi</td>\n",
       "      <td>Felix</td>\n",
       "      <td>[50]</td>\n",
       "      <td>44235</td>\n",
       "      <td>33218</td>\n",
       "      <td>felix_kach@protonmail.com</td>\n",
       "      <td>protonmail.com</td>\n",
       "    </tr>\n",
       "    <tr>\n",
       "      <th>6</th>\n",
       "      <td>Olujare</td>\n",
       "      <td>Dada</td>\n",
       "      <td>[28]</td>\n",
       "      <td>27500</td>\n",
       "      <td>25800</td>\n",
       "      <td>olu59_dada@zohomail.com</td>\n",
       "      <td>zohomail.com</td>\n",
       "    </tr>\n",
       "    <tr>\n",
       "      <th>7</th>\n",
       "      <td>Tomiwa</td>\n",
       "      <td>Sogaolu</td>\n",
       "      <td>[42]</td>\n",
       "      <td>50509</td>\n",
       "      <td>34850</td>\n",
       "      <td>tommySolu@icloudmail.com</td>\n",
       "      <td>icloudmail.com</td>\n",
       "    </tr>\n",
       "    <tr>\n",
       "      <th>8</th>\n",
       "      <td>Timilehin</td>\n",
       "      <td>Kupolokun</td>\n",
       "      <td>[49]</td>\n",
       "      <td>88390</td>\n",
       "      <td>76001</td>\n",
       "      <td>timikupo11@outlook.com</td>\n",
       "      <td>outlook.com</td>\n",
       "    </tr>\n",
       "    <tr>\n",
       "      <th>9</th>\n",
       "      <td>Nnena</td>\n",
       "      <td>Dickson</td>\n",
       "      <td>[39]</td>\n",
       "      <td>122200</td>\n",
       "      <td>85900</td>\n",
       "      <td>nene33@gmail.com</td>\n",
       "      <td>gmail.com</td>\n",
       "    </tr>\n",
       "  </tbody>\n",
       "</table>\n",
       "</div>"
      ],
      "text/plain": [
       "    Firstname   Lastname   age   sales   cost                      email  \\\n",
       "0  Olanrewaju     Kazeem  [24]   15000  11000     olankaz248@outlook.com   \n",
       "1     Chibuzo     Ekenne  [30]   25800  15200   chiman_ekeneks@yahoo.com   \n",
       "2  Onyinyechi       Amos  [22]   45000  28000       onyiamos22@gmail.com   \n",
       "3     Orlando      Bloom  [25]   28000  22000       earlyman01@ymail.com   \n",
       "4        Alex      Iwobi  [34]   36500  18850     iwo.alex_007@gmail.com   \n",
       "5       Kachi      Felix  [50]   44235  33218  felix_kach@protonmail.com   \n",
       "6     Olujare       Dada  [28]   27500  25800    olu59_dada@zohomail.com   \n",
       "7      Tomiwa    Sogaolu  [42]   50509  34850   tommySolu@icloudmail.com   \n",
       "8   Timilehin  Kupolokun  [49]   88390  76001     timikupo11@outlook.com   \n",
       "9       Nnena    Dickson  [39]  122200  85900           nene33@gmail.com   \n",
       "\n",
       "    Email_company  \n",
       "0     outlook.com  \n",
       "1       yahoo.com  \n",
       "2       gmail.com  \n",
       "3       ymail.com  \n",
       "4       gmail.com  \n",
       "5  protonmail.com  \n",
       "6    zohomail.com  \n",
       "7  icloudmail.com  \n",
       "8     outlook.com  \n",
       "9       gmail.com  "
      ]
     },
     "execution_count": 116,
     "metadata": {},
     "output_type": "execute_result"
    }
   ],
   "source": [
    "df[\"Email_company\"]\n",
    "df"
   ]
  },
  {
   "cell_type": "code",
   "execution_count": 4,
   "id": "3dd78499",
   "metadata": {},
   "outputs": [],
   "source": [
    "D = {2, 1, \"two\", 2, 3, 3, 0}"
   ]
  },
  {
   "cell_type": "code",
   "execution_count": 28,
   "id": "e752cadd",
   "metadata": {},
   "outputs": [],
   "source": [
    "F = {\"two\", \"game\", \"Paul\", \"Math\"}"
   ]
  },
  {
   "cell_type": "code",
   "execution_count": 29,
   "id": "284efd00",
   "metadata": {},
   "outputs": [
    {
     "data": {
      "text/plain": [
       "{0, 1, 2, 3, 'Four', 'Math', 'Paul', 'fifteen', 'game', 'one', 'thirteen'}"
      ]
     },
     "execution_count": 29,
     "metadata": {},
     "output_type": "execute_result"
    }
   ],
   "source": [
    "F.symmetric_difference(D)"
   ]
  },
  {
   "cell_type": "code",
   "execution_count": 30,
   "id": "519f3e3a",
   "metadata": {},
   "outputs": [
    {
     "data": {
      "text/plain": [
       "{'Math', 'Paul', 'game'}"
      ]
     },
     "execution_count": 30,
     "metadata": {},
     "output_type": "execute_result"
    }
   ],
   "source": [
    "F.difference(D)"
   ]
  },
  {
   "cell_type": "code",
   "execution_count": 5,
   "id": "4874d182",
   "metadata": {},
   "outputs": [],
   "source": [
    "D.add(\"Four\")"
   ]
  },
  {
   "cell_type": "code",
   "execution_count": 9,
   "id": "dcecf3b2",
   "metadata": {},
   "outputs": [
    {
     "name": "stdout",
     "output_type": "stream",
     "text": [
      "{0, 1, 2, 3, 'Four', 'two'}\n"
     ]
    }
   ],
   "source": [
    "print(D)"
   ]
  },
  {
   "cell_type": "code",
   "execution_count": 17,
   "id": "31f2615c",
   "metadata": {},
   "outputs": [
    {
     "data": {
      "text/plain": [
       "{0, 1, 2, 3, 'Four', 'fifteen', 'one', 'thirteen', 'two', 'zero'}"
      ]
     },
     "execution_count": 17,
     "metadata": {},
     "output_type": "execute_result"
    }
   ],
   "source": [
    "D.update([\"zero\", \"one\", \"thirteen\", \"fifteen\"])\n",
    "D"
   ]
  },
  {
   "cell_type": "code",
   "execution_count": 18,
   "id": "10561b89",
   "metadata": {},
   "outputs": [],
   "source": [
    "D.discard(\"zero\")"
   ]
  },
  {
   "cell_type": "code",
   "execution_count": 39,
   "id": "1c95ef9d",
   "metadata": {},
   "outputs": [],
   "source": [
    "T = (11, 11, \"twelve\", 30, \"six\")"
   ]
  },
  {
   "cell_type": "code",
   "execution_count": 40,
   "id": "f3242fed",
   "metadata": {},
   "outputs": [],
   "source": [
    "U = (30, 22, \"six\", \"zero\")\n",
    "\n"
   ]
  },
  {
   "cell_type": "code",
   "execution_count": 41,
   "id": "abd6e026",
   "metadata": {},
   "outputs": [
    {
     "data": {
      "text/plain": [
       "2"
      ]
     },
     "execution_count": 41,
     "metadata": {},
     "output_type": "execute_result"
    }
   ],
   "source": [
    "T.count(11)"
   ]
  },
  {
   "cell_type": "raw",
   "id": "7030921e",
   "metadata": {},
   "source": []
  },
  {
   "cell_type": "code",
   "execution_count": 51,
   "id": "a84b40cc",
   "metadata": {},
   "outputs": [
    {
     "data": {
      "text/plain": [
       "1"
      ]
     },
     "execution_count": 51,
     "metadata": {},
     "output_type": "execute_result"
    }
   ],
   "source": [
    "U.index(22)"
   ]
  },
  {
   "cell_type": "code",
   "execution_count": 53,
   "id": "717db58b",
   "metadata": {},
   "outputs": [
    {
     "data": {
      "text/plain": [
       "'GOW'"
      ]
     },
     "execution_count": 53,
     "metadata": {},
     "output_type": "execute_result"
    }
   ],
   "source": [
    "Dic = {\"Game\": \"GOW\", \"Console\": \"PS5\", \"Season\": \"3\"}\n",
    "\n",
    "Dic[\"Game\"]"
   ]
  },
  {
   "cell_type": "code",
   "execution_count": 57,
   "id": "0259b254",
   "metadata": {},
   "outputs": [],
   "source": [
    "G={}"
   ]
  },
  {
   "cell_type": "code",
   "execution_count": 71,
   "id": "1c908eed",
   "metadata": {},
   "outputs": [
    {
     "data": {
      "text/plain": [
       "{'Game': 'GOW', 'Console': 'PS5'}"
      ]
     },
     "execution_count": 71,
     "metadata": {},
     "output_type": "execute_result"
    }
   ],
   "source": [
    "Dic.copy()"
   ]
  },
  {
   "cell_type": "code",
   "execution_count": 72,
   "id": "b5568c2b",
   "metadata": {},
   "outputs": [
    {
     "data": {
      "text/plain": [
       "{'Game': None, 'Console': None}"
      ]
     },
     "execution_count": 72,
     "metadata": {},
     "output_type": "execute_result"
    }
   ],
   "source": [
    "Dic.fromkeys(Dic)"
   ]
  },
  {
   "cell_type": "code",
   "execution_count": 73,
   "id": "154317b9",
   "metadata": {},
   "outputs": [
    {
     "data": {
      "text/plain": [
       "'PS5'"
      ]
     },
     "execution_count": 73,
     "metadata": {},
     "output_type": "execute_result"
    }
   ],
   "source": [
    "Dic.get(\"Console\")"
   ]
  },
  {
   "cell_type": "code",
   "execution_count": 74,
   "id": "796753f2",
   "metadata": {},
   "outputs": [
    {
     "ename": "KeyError",
     "evalue": "'Season'",
     "output_type": "error",
     "traceback": [
      "\u001b[1;31m---------------------------------------------------------------------------\u001b[0m",
      "\u001b[1;31mKeyError\u001b[0m                                  Traceback (most recent call last)",
      "\u001b[1;32m~\\AppData\\Local\\Temp\\ipykernel_22704\\1452719667.py\u001b[0m in \u001b[0;36m<module>\u001b[1;34m\u001b[0m\n\u001b[1;32m----> 1\u001b[1;33m \u001b[0mDic\u001b[0m\u001b[1;33m.\u001b[0m\u001b[0mpop\u001b[0m\u001b[1;33m(\u001b[0m\u001b[1;34m\"Season\"\u001b[0m\u001b[1;33m)\u001b[0m\u001b[1;33m\u001b[0m\u001b[1;33m\u001b[0m\u001b[0m\n\u001b[0m",
      "\u001b[1;31mKeyError\u001b[0m: 'Season'"
     ]
    }
   ],
   "source": [
    "Dic.pop(\"Season\")"
   ]
  },
  {
   "cell_type": "code",
   "execution_count": 75,
   "id": "e00e87ed",
   "metadata": {},
   "outputs": [
    {
     "data": {
      "text/plain": [
       "{'Game': 'GOW', 'Console': 'PS5'}"
      ]
     },
     "execution_count": 75,
     "metadata": {},
     "output_type": "execute_result"
    }
   ],
   "source": [
    "Dic"
   ]
  },
  {
   "cell_type": "code",
   "execution_count": null,
   "id": "acd3a1ab",
   "metadata": {},
   "outputs": [],
   "source": []
  },
  {
   "cell_type": "code",
   "execution_count": 77,
   "id": "dc8ba64a",
   "metadata": {},
   "outputs": [],
   "source": [
    "Room = [\"Alice\", \"ope\", \"fiyin\", \"emeka\", \"kenny\", \"timothy\", \"grace\", \"kunle\"]\n",
    "Room.append(\"emeka\")"
   ]
  },
  {
   "cell_type": "markdown",
   "id": "ee7c7527",
   "metadata": {},
   "source": []
  },
  {
   "cell_type": "code",
   "execution_count": 78,
   "id": "88a08adc",
   "metadata": {},
   "outputs": [
    {
     "data": {
      "text/plain": [
       "['Alice',\n",
       " 'ope',\n",
       " 'fiyin',\n",
       " 'emeka',\n",
       " 'kenny',\n",
       " 'timothy',\n",
       " 'grace',\n",
       " 'kunle',\n",
       " 'emeka']"
      ]
     },
     "execution_count": 78,
     "metadata": {},
     "output_type": "execute_result"
    }
   ],
   "source": [
    "Room"
   ]
  },
  {
   "cell_type": "code",
   "execution_count": 79,
   "id": "86720da3",
   "metadata": {},
   "outputs": [
    {
     "name": "stdout",
     "output_type": "stream",
     "text": [
      "{'timothy', 'kunle'}\n"
     ]
    }
   ],
   "source": [
    "Group_A = {\"ope\", \"fiyin\", \"timothy\", \"grace\", \"kunle\"}\n",
    "Group_B = {\"Alice\",\"timothy\", \"emeka\", \"kunle\"}\n",
    "\n",
    "print(Group_A.intersection(Group_B))\n"
   ]
  },
  {
   "cell_type": "code",
   "execution_count": 80,
   "id": "538cfda8",
   "metadata": {},
   "outputs": [],
   "source": [
    "Votes_by_order = [\"Alice\", \"emeka\",\"ope\", \"fiyin\", \"timothy\", \"grace\", \"kunle\", \"kunle\" ]"
   ]
  },
  {
   "cell_type": "code",
   "execution_count": 92,
   "id": "a620d568",
   "metadata": {},
   "outputs": [],
   "source": [
    "Votes_by_order.sort()"
   ]
  },
  {
   "cell_type": "code",
   "execution_count": 93,
   "id": "cfcf94d9",
   "metadata": {},
   "outputs": [],
   "source": [
    "Votes_no_order = {\"Alice\", \"emeka\",\"ope\", \"fiyin\", \"timothy\", \"grace\", \"kunle\", \"kunle\"}"
   ]
  },
  {
   "cell_type": "code",
   "execution_count": 95,
   "id": "a91b5645",
   "metadata": {},
   "outputs": [],
   "source": [
    "import pandas as pd"
   ]
  },
  {
   "cell_type": "code",
   "execution_count": 97,
   "id": "0c2516fb",
   "metadata": {},
   "outputs": [],
   "source": [
    "Vote_summary= {\n",
    "    \n",
    "    \"Sandra\": [\"Alice\", \"emeka\",\"ope\", \"fiyin\", \"timothy\"],\n",
    "    \"Michael\": [\"grace\", \"kunle\", \"kunle\", \"\", \"\"] \n",
    "}\n",
    "df = pd.DataFrame(Vote_summary)"
   ]
  },
  {
   "cell_type": "code",
   "execution_count": 98,
   "id": "86ef600a",
   "metadata": {},
   "outputs": [
    {
     "data": {
      "text/html": [
       "<div>\n",
       "<style scoped>\n",
       "    .dataframe tbody tr th:only-of-type {\n",
       "        vertical-align: middle;\n",
       "    }\n",
       "\n",
       "    .dataframe tbody tr th {\n",
       "        vertical-align: top;\n",
       "    }\n",
       "\n",
       "    .dataframe thead th {\n",
       "        text-align: right;\n",
       "    }\n",
       "</style>\n",
       "<table border=\"1\" class=\"dataframe\">\n",
       "  <thead>\n",
       "    <tr style=\"text-align: right;\">\n",
       "      <th></th>\n",
       "      <th>Sandra</th>\n",
       "      <th>Michael</th>\n",
       "    </tr>\n",
       "  </thead>\n",
       "  <tbody>\n",
       "    <tr>\n",
       "      <th>0</th>\n",
       "      <td>Alice</td>\n",
       "      <td>grace</td>\n",
       "    </tr>\n",
       "    <tr>\n",
       "      <th>1</th>\n",
       "      <td>emeka</td>\n",
       "      <td>kunle</td>\n",
       "    </tr>\n",
       "    <tr>\n",
       "      <th>2</th>\n",
       "      <td>ope</td>\n",
       "      <td>kunle</td>\n",
       "    </tr>\n",
       "    <tr>\n",
       "      <th>3</th>\n",
       "      <td>fiyin</td>\n",
       "      <td></td>\n",
       "    </tr>\n",
       "    <tr>\n",
       "      <th>4</th>\n",
       "      <td>timothy</td>\n",
       "      <td></td>\n",
       "    </tr>\n",
       "  </tbody>\n",
       "</table>\n",
       "</div>"
      ],
      "text/plain": [
       "    Sandra Michael\n",
       "0    Alice   grace\n",
       "1    emeka   kunle\n",
       "2      ope   kunle\n",
       "3    fiyin        \n",
       "4  timothy        "
      ]
     },
     "execution_count": 98,
     "metadata": {},
     "output_type": "execute_result"
    }
   ],
   "source": [
    "df"
   ]
  },
  {
   "cell_type": "code",
   "execution_count": null,
   "id": "62bfc820",
   "metadata": {},
   "outputs": [],
   "source": []
  }
 ],
 "metadata": {
  "kernelspec": {
   "display_name": "Python 3 (ipykernel)",
   "language": "python",
   "name": "python3"
  },
  "language_info": {
   "codemirror_mode": {
    "name": "ipython",
    "version": 3
   },
   "file_extension": ".py",
   "mimetype": "text/x-python",
   "name": "python",
   "nbconvert_exporter": "python",
   "pygments_lexer": "ipython3",
   "version": "3.9.13"
  }
 },
 "nbformat": 4,
 "nbformat_minor": 5
}
