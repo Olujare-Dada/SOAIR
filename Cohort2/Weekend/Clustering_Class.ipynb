{
 "cells": [
  {
   "cell_type": "markdown",
   "id": "30ba6c74",
   "metadata": {},
   "source": [
    "# Clustering\n",
    "\n",
    "\n",
    "\n",
    "Clustering is an unsupervised Machine Learning method used for discovering patterns and similarities within data samples. The samples are then clustered into groups based on a high degree of similarity features. Clustering is significant because it ensures the intrinsic grouping among the current unlabeled data.\n",
    "\n",
    "It can be defined as, \"A method of sorting data points into different clusters based on their similarity. The objects with possible similarities are kept in a group with few or no similarities to another.\"\n",
    "\n",
    "It accomplishes this by identifying comparable patterns in the unlabeled dataset, such as activity, size, color, and shape, and categorizing them according to the presence or absence of those patterns. The algorithm receives no supervision and works with an unlabeled dataset since it is an unsupervised learning method.\n",
    "\n",
    "Following the application of the clustering technique, each group or cluster is given a cluster-ID, which the ML system can utilize to facilitate the processing of huge and complicated datasets.\n",
    "\n",
    "The Scikit-learn library has a function called sklearn.cluster that can cluster unlabeled data.\n",
    "\n",
    "Now that we understand clustering, let us explore the types of clustering methods in SkLearn.\n",
    "\n",
    "\n",
    "\n",
    "\n",
    "### Clustering Techniques\n",
    "\n",
    "- **K-Means clustering**\n",
    "- **Hierarchical clustering**\n",
    "- **Mean shift**\n",
    "\n",
    "\n",
    "For a good understanding of how these algorithms work, watch the videos below:<br>\n",
    "> **K-Means** $\\to$ https://www.youtube.com/watch?v=4b5d3muPQmA&t=385s <br>\n",
    "> **Hierarchical** $\\to$ https://www.youtube.com/watch?v=7xHsRkOdVwo"
   ]
  },
  {
   "cell_type": "code",
   "execution_count": null,
   "id": "6c064d3b",
   "metadata": {},
   "outputs": [],
   "source": []
  },
  {
   "cell_type": "markdown",
   "id": "9cfcbf53",
   "metadata": {},
   "source": [
    "# Clustering Case Study\n",
    "\n",
    "\n",
    "We would be working with a dataset for a movie streaming service, which contains information about the movie watching habits of customers such as the number of times they open up the streaming service, number of minutes watched per week, whether they decided to watch the movie recommendations shown to them by the streaming service's recommendation system, and so on.\n",
    "\n",
    "1he streaming service wants to know more about the customers using the services and have employed you as a data scientist to explore the dataset. We have already discussed some statistical methods with which can help give some statistical insights into the dataset, however, in this case, we would be looking at deriving new pieces of information from the dataset by identifying clusters of people with character traits unique to the cluster."
   ]
  },
  {
   "cell_type": "code",
   "execution_count": null,
   "id": "f9bf12ad",
   "metadata": {},
   "outputs": [],
   "source": []
  },
  {
   "cell_type": "code",
   "execution_count": null,
   "id": "00893ed3",
   "metadata": {},
   "outputs": [],
   "source": [
    "import pandas as pd\n",
    "import numpy as np\n",
    "import matplotlib.pyplot as plt\n",
    "import seaborn as sns"
   ]
  },
  {
   "cell_type": "code",
   "execution_count": null,
   "id": "9b4b8cd4",
   "metadata": {},
   "outputs": [],
   "source": []
  },
  {
   "cell_type": "code",
   "execution_count": null,
   "id": "799a85f8",
   "metadata": {},
   "outputs": [],
   "source": [
    "#Importing the dataset from different file formats\n",
    "\n",
    "#data = pd.read_csv(\"Movie_Watchers_Data.csv\")\n",
    "\n",
    "data = pd.read_parquet(\"Movie_Watchers_Data.parquet\")\n",
    "\n",
    "data = pd.read_feather(\"Movie_Watchers_Data.feather\")"
   ]
  },
  {
   "cell_type": "code",
   "execution_count": null,
   "id": "3239e449",
   "metadata": {},
   "outputs": [],
   "source": [
    "data.head()"
   ]
  },
  {
   "cell_type": "code",
   "execution_count": null,
   "id": "114f91fd",
   "metadata": {},
   "outputs": [],
   "source": [
    "data.info()"
   ]
  },
  {
   "cell_type": "code",
   "execution_count": null,
   "id": "8363c3e2",
   "metadata": {},
   "outputs": [],
   "source": []
  },
  {
   "cell_type": "markdown",
   "id": "6185b335",
   "metadata": {},
   "source": [
    "### Data issues:\n",
    "\n",
    "\n",
    "**Watched_recommendations and mobile_app_usage** are percentages. But in order to use them for machine learning, they should be written in their decimal representations"
   ]
  },
  {
   "cell_type": "code",
   "execution_count": null,
   "id": "1e645021",
   "metadata": {},
   "outputs": [],
   "source": []
  },
  {
   "cell_type": "code",
   "execution_count": null,
   "id": "5dd42531",
   "metadata": {},
   "outputs": [],
   "source": []
  },
  {
   "cell_type": "code",
   "execution_count": null,
   "id": "c326cdd6",
   "metadata": {},
   "outputs": [],
   "source": []
  },
  {
   "cell_type": "code",
   "execution_count": null,
   "id": "7bf5dbf8",
   "metadata": {},
   "outputs": [],
   "source": []
  },
  {
   "cell_type": "code",
   "execution_count": null,
   "id": "bdb89530",
   "metadata": {},
   "outputs": [],
   "source": []
  },
  {
   "cell_type": "code",
   "execution_count": null,
   "id": "225a2402",
   "metadata": {},
   "outputs": [],
   "source": []
  },
  {
   "cell_type": "code",
   "execution_count": null,
   "id": "18b713f7",
   "metadata": {},
   "outputs": [],
   "source": []
  },
  {
   "cell_type": "code",
   "execution_count": null,
   "id": "f2a640e9",
   "metadata": {},
   "outputs": [],
   "source": []
  },
  {
   "cell_type": "code",
   "execution_count": null,
   "id": "e3ada2c9",
   "metadata": {},
   "outputs": [],
   "source": []
  },
  {
   "cell_type": "code",
   "execution_count": null,
   "id": "97688fdc",
   "metadata": {},
   "outputs": [],
   "source": []
  },
  {
   "cell_type": "code",
   "execution_count": null,
   "id": "264511a6",
   "metadata": {},
   "outputs": [],
   "source": []
  },
  {
   "cell_type": "code",
   "execution_count": null,
   "id": "9d614df9",
   "metadata": {},
   "outputs": [],
   "source": []
  },
  {
   "cell_type": "code",
   "execution_count": null,
   "id": "5f547b2e",
   "metadata": {},
   "outputs": [],
   "source": []
  },
  {
   "cell_type": "code",
   "execution_count": null,
   "id": "698a79d2",
   "metadata": {},
   "outputs": [],
   "source": []
  },
  {
   "cell_type": "code",
   "execution_count": null,
   "id": "b65dae1b",
   "metadata": {},
   "outputs": [],
   "source": []
  },
  {
   "cell_type": "code",
   "execution_count": null,
   "id": "71403e5e",
   "metadata": {},
   "outputs": [],
   "source": []
  },
  {
   "cell_type": "code",
   "execution_count": null,
   "id": "442aebf5",
   "metadata": {},
   "outputs": [],
   "source": []
  },
  {
   "cell_type": "code",
   "execution_count": null,
   "id": "abd22a8d",
   "metadata": {},
   "outputs": [],
   "source": []
  },
  {
   "cell_type": "code",
   "execution_count": null,
   "id": "25e4d5a8",
   "metadata": {},
   "outputs": [],
   "source": []
  },
  {
   "cell_type": "code",
   "execution_count": null,
   "id": "a3643c86",
   "metadata": {},
   "outputs": [],
   "source": []
  }
 ],
 "metadata": {
  "kernelspec": {
   "display_name": "Python 3 (ipykernel)",
   "language": "python",
   "name": "python3"
  },
  "language_info": {
   "codemirror_mode": {
    "name": "ipython",
    "version": 3
   },
   "file_extension": ".py",
   "mimetype": "text/x-python",
   "name": "python",
   "nbconvert_exporter": "python",
   "pygments_lexer": "ipython3",
   "version": "3.9.13"
  }
 },
 "nbformat": 4,
 "nbformat_minor": 5
}
